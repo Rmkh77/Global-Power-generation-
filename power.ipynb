{
  "nbformat": 4,
  "nbformat_minor": 0,
  "metadata": {
    "colab": {
      "provenance": [],
      "mount_file_id": "1GqTQ6EyenDAR5CzRGeX2IkrxULdB3lw-",
      "authorship_tag": "ABX9TyM/k5KyJNB6WyNHC7iRp5KK",
      "include_colab_link": true
    },
    "kernelspec": {
      "name": "python3",
      "display_name": "Python 3"
    },
    "language_info": {
      "name": "python"
    }
  },
  "cells": [
    {
      "cell_type": "markdown",
      "metadata": {
        "id": "view-in-github",
        "colab_type": "text"
      },
      "source": [
        "<a href=\"https://colab.research.google.com/github/Rmkh77/Global-Power-generation-/blob/main/power.ipynb\" target=\"_parent\"><img src=\"https://colab.research.google.com/assets/colab-badge.svg\" alt=\"Open In Colab\"/></a>"
      ]
    },
    {
      "cell_type": "code",
      "execution_count": 1,
      "metadata": {
        "id": "7zW_3o04lR_h"
      },
      "outputs": [],
      "source": [
        "import numpy as np\n",
        " # used for mathematical calculations\n",
        "import pandas as pd\n",
        "# used to read data set\n",
        "import matplotlib.pyplot as plt\n",
        " # used in plotting graphs\n",
        "import seaborn as sns\n",
        "# used to draw a  heat map\n",
        "import plotly.express as px\n",
        " # used in choropleth\n",
        "from sklearn.preprocessing import StandardScaler\n",
        "# Standard Scaler used to standardize\n",
        "import sklearn.metrics as metrics\n",
        "from sklearn.metrics import mean_squared_error, mean_absolute_error, r2_score\n",
        "# metrics used for performance evaluation\n"
      ]
    },
    {
      "cell_type": "code",
      "source": [
        "power=pd.read_csv(\"/content/drive/MyDrive/project_hbic/global power plant/powerplants (global) - global_power_plants.csv\")\n",
        "# reading data set"
      ],
      "metadata": {
        "id": "ezALeXUAla3D"
      },
      "execution_count": 2,
      "outputs": []
    },
    {
      "cell_type": "code",
      "source": [
        "power.info()\n",
        "# complete information of the data set"
      ],
      "metadata": {
        "colab": {
          "base_uri": "https://localhost:8080/"
        },
        "id": "7ylJpU8imORU",
        "outputId": "b8301f31-908f-439a-c6a8-4ea2b97d3323"
      },
      "execution_count": null,
      "outputs": [
        {
          "output_type": "stream",
          "name": "stdout",
          "text": [
            "<class 'pandas.core.frame.DataFrame'>\n",
            "RangeIndex: 34936 entries, 0 to 34935\n",
            "Data columns (total 15 columns):\n",
            " #   Column                         Non-Null Count  Dtype  \n",
            "---  ------                         --------------  -----  \n",
            " 0   country code                   34936 non-null  object \n",
            " 1   country_long                   34936 non-null  object \n",
            " 2   name of powerplant             34936 non-null  object \n",
            " 3   capacity in MW                 34936 non-null  float64\n",
            " 4   latitude                       34936 non-null  float64\n",
            " 5   longitude                      34936 non-null  float64\n",
            " 6   primary_fuel                   34936 non-null  object \n",
            " 7   secondary fuel                 1944 non-null   object \n",
            " 8   other_fuel2                    276 non-null    object \n",
            " 9   other_fuel3                    92 non-null     object \n",
            " 10  start date                     17447 non-null  float64\n",
            " 11  owner of plant                 20868 non-null  object \n",
            " 12  generation_gwh_2021            9659 non-null   float64\n",
            " 13  geolocation_source             34517 non-null  object \n",
            " 14  estimated_generation_gwh_2021  16120 non-null  float64\n",
            "dtypes: float64(6), object(9)\n",
            "memory usage: 4.0+ MB\n"
          ]
        }
      ]
    },
    {
      "cell_type": "code",
      "source": [
        "power.head(2)\n",
        "# printing the head of the dataset"
      ],
      "metadata": {
        "colab": {
          "base_uri": "https://localhost:8080/",
          "height": 280
        },
        "id": "4GXsgRu5pYX6",
        "outputId": "0083ed13-75dc-4c16-f83a-93333a74780b"
      },
      "execution_count": null,
      "outputs": [
        {
          "output_type": "execute_result",
          "data": {
            "text/plain": [
              "  country code country_long                            name of powerplant  \\\n",
              "0          AFG  Afghanistan  Kajaki Hydroelectric Power Plant Afghanistan   \n",
              "1          AFG  Afghanistan                                  Kandahar DOG   \n",
              "\n",
              "   capacity in MW  latitude  longitude primary_fuel secondary fuel  \\\n",
              "0            33.0    32.322     65.119        Hydro            NaN   \n",
              "1            10.0    31.670     65.795        Solar            NaN   \n",
              "\n",
              "  other_fuel2 other_fuel3  start date owner of plant  generation_gwh_2021  \\\n",
              "0         NaN         NaN         NaN            NaN                  NaN   \n",
              "1         NaN         NaN         NaN            NaN                  NaN   \n",
              "\n",
              "  geolocation_source  estimated_generation_gwh_2021  \n",
              "0              GEODB                         123.77  \n",
              "1         Wiki-Solar                          18.43  "
            ],
            "text/html": [
              "\n",
              "  <div id=\"df-d53fb65d-7c18-447f-9b3d-4d097192b4f1\">\n",
              "    <div class=\"colab-df-container\">\n",
              "      <div>\n",
              "<style scoped>\n",
              "    .dataframe tbody tr th:only-of-type {\n",
              "        vertical-align: middle;\n",
              "    }\n",
              "\n",
              "    .dataframe tbody tr th {\n",
              "        vertical-align: top;\n",
              "    }\n",
              "\n",
              "    .dataframe thead th {\n",
              "        text-align: right;\n",
              "    }\n",
              "</style>\n",
              "<table border=\"1\" class=\"dataframe\">\n",
              "  <thead>\n",
              "    <tr style=\"text-align: right;\">\n",
              "      <th></th>\n",
              "      <th>country code</th>\n",
              "      <th>country_long</th>\n",
              "      <th>name of powerplant</th>\n",
              "      <th>capacity in MW</th>\n",
              "      <th>latitude</th>\n",
              "      <th>longitude</th>\n",
              "      <th>primary_fuel</th>\n",
              "      <th>secondary fuel</th>\n",
              "      <th>other_fuel2</th>\n",
              "      <th>other_fuel3</th>\n",
              "      <th>start date</th>\n",
              "      <th>owner of plant</th>\n",
              "      <th>generation_gwh_2021</th>\n",
              "      <th>geolocation_source</th>\n",
              "      <th>estimated_generation_gwh_2021</th>\n",
              "    </tr>\n",
              "  </thead>\n",
              "  <tbody>\n",
              "    <tr>\n",
              "      <th>0</th>\n",
              "      <td>AFG</td>\n",
              "      <td>Afghanistan</td>\n",
              "      <td>Kajaki Hydroelectric Power Plant Afghanistan</td>\n",
              "      <td>33.0</td>\n",
              "      <td>32.322</td>\n",
              "      <td>65.119</td>\n",
              "      <td>Hydro</td>\n",
              "      <td>NaN</td>\n",
              "      <td>NaN</td>\n",
              "      <td>NaN</td>\n",
              "      <td>NaN</td>\n",
              "      <td>NaN</td>\n",
              "      <td>NaN</td>\n",
              "      <td>GEODB</td>\n",
              "      <td>123.77</td>\n",
              "    </tr>\n",
              "    <tr>\n",
              "      <th>1</th>\n",
              "      <td>AFG</td>\n",
              "      <td>Afghanistan</td>\n",
              "      <td>Kandahar DOG</td>\n",
              "      <td>10.0</td>\n",
              "      <td>31.670</td>\n",
              "      <td>65.795</td>\n",
              "      <td>Solar</td>\n",
              "      <td>NaN</td>\n",
              "      <td>NaN</td>\n",
              "      <td>NaN</td>\n",
              "      <td>NaN</td>\n",
              "      <td>NaN</td>\n",
              "      <td>NaN</td>\n",
              "      <td>Wiki-Solar</td>\n",
              "      <td>18.43</td>\n",
              "    </tr>\n",
              "  </tbody>\n",
              "</table>\n",
              "</div>\n",
              "      <button class=\"colab-df-convert\" onclick=\"convertToInteractive('df-d53fb65d-7c18-447f-9b3d-4d097192b4f1')\"\n",
              "              title=\"Convert this dataframe to an interactive table.\"\n",
              "              style=\"display:none;\">\n",
              "        \n",
              "  <svg xmlns=\"http://www.w3.org/2000/svg\" height=\"24px\"viewBox=\"0 0 24 24\"\n",
              "       width=\"24px\">\n",
              "    <path d=\"M0 0h24v24H0V0z\" fill=\"none\"/>\n",
              "    <path d=\"M18.56 5.44l.94 2.06.94-2.06 2.06-.94-2.06-.94-.94-2.06-.94 2.06-2.06.94zm-11 1L8.5 8.5l.94-2.06 2.06-.94-2.06-.94L8.5 2.5l-.94 2.06-2.06.94zm10 10l.94 2.06.94-2.06 2.06-.94-2.06-.94-.94-2.06-.94 2.06-2.06.94z\"/><path d=\"M17.41 7.96l-1.37-1.37c-.4-.4-.92-.59-1.43-.59-.52 0-1.04.2-1.43.59L10.3 9.45l-7.72 7.72c-.78.78-.78 2.05 0 2.83L4 21.41c.39.39.9.59 1.41.59.51 0 1.02-.2 1.41-.59l7.78-7.78 2.81-2.81c.8-.78.8-2.07 0-2.86zM5.41 20L4 18.59l7.72-7.72 1.47 1.35L5.41 20z\"/>\n",
              "  </svg>\n",
              "      </button>\n",
              "      \n",
              "  <style>\n",
              "    .colab-df-container {\n",
              "      display:flex;\n",
              "      flex-wrap:wrap;\n",
              "      gap: 12px;\n",
              "    }\n",
              "\n",
              "    .colab-df-convert {\n",
              "      background-color: #E8F0FE;\n",
              "      border: none;\n",
              "      border-radius: 50%;\n",
              "      cursor: pointer;\n",
              "      display: none;\n",
              "      fill: #1967D2;\n",
              "      height: 32px;\n",
              "      padding: 0 0 0 0;\n",
              "      width: 32px;\n",
              "    }\n",
              "\n",
              "    .colab-df-convert:hover {\n",
              "      background-color: #E2EBFA;\n",
              "      box-shadow: 0px 1px 2px rgba(60, 64, 67, 0.3), 0px 1px 3px 1px rgba(60, 64, 67, 0.15);\n",
              "      fill: #174EA6;\n",
              "    }\n",
              "\n",
              "    [theme=dark] .colab-df-convert {\n",
              "      background-color: #3B4455;\n",
              "      fill: #D2E3FC;\n",
              "    }\n",
              "\n",
              "    [theme=dark] .colab-df-convert:hover {\n",
              "      background-color: #434B5C;\n",
              "      box-shadow: 0px 1px 3px 1px rgba(0, 0, 0, 0.15);\n",
              "      filter: drop-shadow(0px 1px 2px rgba(0, 0, 0, 0.3));\n",
              "      fill: #FFFFFF;\n",
              "    }\n",
              "  </style>\n",
              "\n",
              "      <script>\n",
              "        const buttonEl =\n",
              "          document.querySelector('#df-d53fb65d-7c18-447f-9b3d-4d097192b4f1 button.colab-df-convert');\n",
              "        buttonEl.style.display =\n",
              "          google.colab.kernel.accessAllowed ? 'block' : 'none';\n",
              "\n",
              "        async function convertToInteractive(key) {\n",
              "          const element = document.querySelector('#df-d53fb65d-7c18-447f-9b3d-4d097192b4f1');\n",
              "          const dataTable =\n",
              "            await google.colab.kernel.invokeFunction('convertToInteractive',\n",
              "                                                     [key], {});\n",
              "          if (!dataTable) return;\n",
              "\n",
              "          const docLinkHtml = 'Like what you see? Visit the ' +\n",
              "            '<a target=\"_blank\" href=https://colab.research.google.com/notebooks/data_table.ipynb>data table notebook</a>'\n",
              "            + ' to learn more about interactive tables.';\n",
              "          element.innerHTML = '';\n",
              "          dataTable['output_type'] = 'display_data';\n",
              "          await google.colab.output.renderOutput(dataTable, element);\n",
              "          const docLink = document.createElement('div');\n",
              "          docLink.innerHTML = docLinkHtml;\n",
              "          element.appendChild(docLink);\n",
              "        }\n",
              "      </script>\n",
              "    </div>\n",
              "  </div>\n",
              "  "
            ]
          },
          "metadata": {},
          "execution_count": 4
        }
      ]
    },
    {
      "cell_type": "code",
      "source": [
        "power.nunique()\n",
        "# number of unique value that exist in each column"
      ],
      "metadata": {
        "colab": {
          "base_uri": "https://localhost:8080/"
        },
        "id": "O0RfULzPqb8k",
        "outputId": "6ba20740-c655-4ac1-dfa7-45b6ba9a4063"
      },
      "execution_count": null,
      "outputs": [
        {
          "output_type": "execute_result",
          "data": {
            "text/plain": [
              "country code                       167\n",
              "country_long                       167\n",
              "name of powerplant               34528\n",
              "capacity in MW                    5456\n",
              "latitude                         31779\n",
              "longitude                        33036\n",
              "primary_fuel                        15\n",
              "secondary fuel                      12\n",
              "other_fuel2                         11\n",
              "other_fuel3                          8\n",
              "start date                        1953\n",
              "owner of plant                   10144\n",
              "generation_gwh_2021               8312\n",
              "geolocation_source                  28\n",
              "estimated_generation_gwh_2021     8845\n",
              "dtype: int64"
            ]
          },
          "metadata": {},
          "execution_count": 5
        }
      ]
    },
    {
      "cell_type": "code",
      "source": [
        "power.isnull().sum()\n",
        "# finding the number of null values present in each column"
      ],
      "metadata": {
        "id": "RBwkIYD7qi7W",
        "outputId": "8e7152f9-64aa-4414-c675-ac24045f7477",
        "colab": {
          "base_uri": "https://localhost:8080/"
        }
      },
      "execution_count": null,
      "outputs": [
        {
          "output_type": "execute_result",
          "data": {
            "text/plain": [
              "country code                         0\n",
              "country_long                         0\n",
              "name of powerplant                   0\n",
              "capacity in MW                       0\n",
              "latitude                             0\n",
              "longitude                            0\n",
              "primary_fuel                         0\n",
              "secondary fuel                   32992\n",
              "other_fuel2                      34660\n",
              "other_fuel3                      34844\n",
              "start date                       17489\n",
              "owner of plant                   14068\n",
              "generation_gwh_2021              25277\n",
              "geolocation_source                 419\n",
              "estimated_generation_gwh_2021    18816\n",
              "dtype: int64"
            ]
          },
          "metadata": {},
          "execution_count": 6
        }
      ]
    },
    {
      "cell_type": "code",
      "source": [
        "df1=pd.DataFrame(power.groupby('country code')['capacity in MW'].sum())\n",
        "# creating dataframe country code and capacity\n",
        "\n",
        "fig = px.choropleth(df1,locations=df1.index,color='capacity in MW',scope='world',color_continuous_scale=px.colors.sequential.GnBu,\n",
        "                    range_color=(0,1500000),height=500\n",
        "    )\n",
        "fig.show()\n",
        "# display"
      ],
      "metadata": {
        "colab": {
          "base_uri": "https://localhost:8080/",
          "height": 517
        },
        "id": "l5xdKnTxoZu4",
        "outputId": "fdad1f43-b2d8-4947-b6c9-50322046e7e4"
      },
      "execution_count": null,
      "outputs": [
        {
          "output_type": "display_data",
          "data": {
            "text/html": [
              "<html>\n",
              "<head><meta charset=\"utf-8\" /></head>\n",
              "<body>\n",
              "    <div>            <script src=\"https://cdnjs.cloudflare.com/ajax/libs/mathjax/2.7.5/MathJax.js?config=TeX-AMS-MML_SVG\"></script><script type=\"text/javascript\">if (window.MathJax && window.MathJax.Hub && window.MathJax.Hub.Config) {window.MathJax.Hub.Config({SVG: {font: \"STIX-Web\"}});}</script>                <script type=\"text/javascript\">window.PlotlyConfig = {MathJaxConfig: 'local'};</script>\n",
              "        <script src=\"https://cdn.plot.ly/plotly-2.18.2.min.js\"></script>                <div id=\"04cf483d-017f-4e84-9002-74785c717321\" class=\"plotly-graph-div\" style=\"height:500px; width:100%;\"></div>            <script type=\"text/javascript\">                                    window.PLOTLYENV=window.PLOTLYENV || {};                                    if (document.getElementById(\"04cf483d-017f-4e84-9002-74785c717321\")) {                    Plotly.newPlot(                        \"04cf483d-017f-4e84-9002-74785c717321\",                        [{\"coloraxis\":\"coloraxis\",\"geo\":\"geo\",\"hovertemplate\":\"country code=%{location}<br>capacity in MW=%{z}<extra></extra>\",\"locations\":[\"AFG\",\"AGO\",\"ALB\",\"ARE\",\"ARG\",\"ARM\",\"ATA\",\"AUS\",\"AUT\",\"AZE\",\"BDI\",\"BEL\",\"BEN\",\"BFA\",\"BGD\",\"BGR\",\"BHR\",\"BIH\",\"BLR\",\"BOL\",\"BRA\",\"BRN\",\"BTN\",\"BWA\",\"CAF\",\"CAN\",\"CHE\",\"CHL\",\"CHN\",\"CIV\",\"CMR\",\"COD\",\"COG\",\"COL\",\"CPV\",\"CRI\",\"CUB\",\"CYP\",\"CZE\",\"DEU\",\"DJI\",\"DNK\",\"DOM\",\"DZA\",\"ECU\",\"EGY\",\"ERI\",\"ESH\",\"ESP\",\"EST\",\"ETH\",\"FIN\",\"FJI\",\"FRA\",\"GAB\",\"GBR\",\"GEO\",\"GHA\",\"GIN\",\"GMB\",\"GNB\",\"GNQ\",\"GRC\",\"GTM\",\"GUF\",\"GUY\",\"HND\",\"HRV\",\"HUN\",\"IDN\",\"IND\",\"IRL\",\"IRN\",\"IRQ\",\"ISL\",\"ISR\",\"ITA\",\"JAM\",\"JOR\",\"JPN\",\"KAZ\",\"KEN\",\"KGZ\",\"KHM\",\"KOR\",\"KOS\",\"KWT\",\"LAO\",\"LBN\",\"LBR\",\"LBY\",\"LCA\",\"LKA\",\"LSO\",\"LTU\",\"LUX\",\"LVA\",\"MAR\",\"MDA\",\"MDG\",\"MEX\",\"MKD\",\"MLI\",\"MMR\",\"MNE\",\"MNG\",\"MOZ\",\"MRT\",\"MUS\",\"MWI\",\"MYS\",\"NAM\",\"NER\",\"NGA\",\"NIC\",\"NLD\",\"NOR\",\"NPL\",\"NZL\",\"OMN\",\"PAK\",\"PAN\",\"PER\",\"PHL\",\"PNG\",\"POL\",\"PRK\",\"PRT\",\"PRY\",\"PSE\",\"QAT\",\"ROU\",\"RUS\",\"RWA\",\"SAU\",\"SDN\",\"SEN\",\"SGP\",\"SLE\",\"SLV\",\"SRB\",\"SUR\",\"SVK\",\"SVN\",\"SWE\",\"SWZ\",\"SYR\",\"TGO\",\"THA\",\"TJK\",\"TKM\",\"TTO\",\"TUN\",\"TUR\",\"TWN\",\"TZA\",\"UGA\",\"UKR\",\"URY\",\"USA\",\"UZB\",\"VEN\",\"VNM\",\"YEM\",\"ZAF\",\"ZMB\",\"ZWE\"],\"name\":\"\",\"z\":[300.55,1071.18,1529.0,30327.0,32913.079,3271.0,7.6,65852.016,11227.1,5764.0,57.17,13404.8,60.5,229.30599999999998,11840.0,9252.2,7586.3,3985.5,8534.9,1563.1200000000001,147589.27133,586.0,1482.2,746.0,33.664,143578.7,13118.0,22475.648667,1415067.38,1203.0,881.5799999999999,3057.04,625.9,10924.0,92.805,1968.4,3796.8,1468.0,16871.7,112040.37488,107.332,8085.2,1858.09,15873.8,4245.48,34183.5,133.19,23.4,79035.068,2541.9,4023.9,11796.76,317.38,110615.9289,446.81,97155.28448,3831.4,2108.0,510.42,70.4,18.237,150.5,14658.65,3689.1,252.6,136.3,2164.87,3274.5,6290.7,48751.418,316088.546,7582.15,61362.1,18160.6,2484.6,14665.8,73095.06,792.5,4703.5,215365.85,18628.0,2485.9,3634.0,1517.6,99472.68,1478.0,17829.5,4986.86,2070.3,73.3,6231.0,3.0,3720.1,72.0,3490.8,1681.0,2537.0,8697.56,2914.0,359.93,62365.9,1362.6,311.5,3987.1,885.5,904.0,2285.0,315.804,989.269,369.1,28794.5,502.5,167.2,6260.0,863.4,16993.69,32551.0,587.95,6674.55,6010.8,21455.0,1633.2,7432.1,20719.3,406.9,37902.0,9208.0,14744.864,8760.0,7.6,10548.0,14646.9,228220.05,193.68,84341.55,2798.11,696.16,13660.0,126.0,1418.5,7958.0,5.0,6230.86,2736.0,26418.7,94.8,7966.0,195.114,39654.3,5296.4,3454.0,2144.6,5052.2,51444.7,37211.86,994.5,772.5,48569.8,4209.12,1204638.05,12640.0,31096.0,41350.49,1045.0,50422.7,2689.337,1670.0],\"type\":\"choropleth\"}],                        {\"template\":{\"data\":{\"histogram2dcontour\":[{\"type\":\"histogram2dcontour\",\"colorbar\":{\"outlinewidth\":0,\"ticks\":\"\"},\"colorscale\":[[0.0,\"#0d0887\"],[0.1111111111111111,\"#46039f\"],[0.2222222222222222,\"#7201a8\"],[0.3333333333333333,\"#9c179e\"],[0.4444444444444444,\"#bd3786\"],[0.5555555555555556,\"#d8576b\"],[0.6666666666666666,\"#ed7953\"],[0.7777777777777778,\"#fb9f3a\"],[0.8888888888888888,\"#fdca26\"],[1.0,\"#f0f921\"]]}],\"choropleth\":[{\"type\":\"choropleth\",\"colorbar\":{\"outlinewidth\":0,\"ticks\":\"\"}}],\"histogram2d\":[{\"type\":\"histogram2d\",\"colorbar\":{\"outlinewidth\":0,\"ticks\":\"\"},\"colorscale\":[[0.0,\"#0d0887\"],[0.1111111111111111,\"#46039f\"],[0.2222222222222222,\"#7201a8\"],[0.3333333333333333,\"#9c179e\"],[0.4444444444444444,\"#bd3786\"],[0.5555555555555556,\"#d8576b\"],[0.6666666666666666,\"#ed7953\"],[0.7777777777777778,\"#fb9f3a\"],[0.8888888888888888,\"#fdca26\"],[1.0,\"#f0f921\"]]}],\"heatmap\":[{\"type\":\"heatmap\",\"colorbar\":{\"outlinewidth\":0,\"ticks\":\"\"},\"colorscale\":[[0.0,\"#0d0887\"],[0.1111111111111111,\"#46039f\"],[0.2222222222222222,\"#7201a8\"],[0.3333333333333333,\"#9c179e\"],[0.4444444444444444,\"#bd3786\"],[0.5555555555555556,\"#d8576b\"],[0.6666666666666666,\"#ed7953\"],[0.7777777777777778,\"#fb9f3a\"],[0.8888888888888888,\"#fdca26\"],[1.0,\"#f0f921\"]]}],\"heatmapgl\":[{\"type\":\"heatmapgl\",\"colorbar\":{\"outlinewidth\":0,\"ticks\":\"\"},\"colorscale\":[[0.0,\"#0d0887\"],[0.1111111111111111,\"#46039f\"],[0.2222222222222222,\"#7201a8\"],[0.3333333333333333,\"#9c179e\"],[0.4444444444444444,\"#bd3786\"],[0.5555555555555556,\"#d8576b\"],[0.6666666666666666,\"#ed7953\"],[0.7777777777777778,\"#fb9f3a\"],[0.8888888888888888,\"#fdca26\"],[1.0,\"#f0f921\"]]}],\"contourcarpet\":[{\"type\":\"contourcarpet\",\"colorbar\":{\"outlinewidth\":0,\"ticks\":\"\"}}],\"contour\":[{\"type\":\"contour\",\"colorbar\":{\"outlinewidth\":0,\"ticks\":\"\"},\"colorscale\":[[0.0,\"#0d0887\"],[0.1111111111111111,\"#46039f\"],[0.2222222222222222,\"#7201a8\"],[0.3333333333333333,\"#9c179e\"],[0.4444444444444444,\"#bd3786\"],[0.5555555555555556,\"#d8576b\"],[0.6666666666666666,\"#ed7953\"],[0.7777777777777778,\"#fb9f3a\"],[0.8888888888888888,\"#fdca26\"],[1.0,\"#f0f921\"]]}],\"surface\":[{\"type\":\"surface\",\"colorbar\":{\"outlinewidth\":0,\"ticks\":\"\"},\"colorscale\":[[0.0,\"#0d0887\"],[0.1111111111111111,\"#46039f\"],[0.2222222222222222,\"#7201a8\"],[0.3333333333333333,\"#9c179e\"],[0.4444444444444444,\"#bd3786\"],[0.5555555555555556,\"#d8576b\"],[0.6666666666666666,\"#ed7953\"],[0.7777777777777778,\"#fb9f3a\"],[0.8888888888888888,\"#fdca26\"],[1.0,\"#f0f921\"]]}],\"mesh3d\":[{\"type\":\"mesh3d\",\"colorbar\":{\"outlinewidth\":0,\"ticks\":\"\"}}],\"scatter\":[{\"fillpattern\":{\"fillmode\":\"overlay\",\"size\":10,\"solidity\":0.2},\"type\":\"scatter\"}],\"parcoords\":[{\"type\":\"parcoords\",\"line\":{\"colorbar\":{\"outlinewidth\":0,\"ticks\":\"\"}}}],\"scatterpolargl\":[{\"type\":\"scatterpolargl\",\"marker\":{\"colorbar\":{\"outlinewidth\":0,\"ticks\":\"\"}}}],\"bar\":[{\"error_x\":{\"color\":\"#2a3f5f\"},\"error_y\":{\"color\":\"#2a3f5f\"},\"marker\":{\"line\":{\"color\":\"#E5ECF6\",\"width\":0.5},\"pattern\":{\"fillmode\":\"overlay\",\"size\":10,\"solidity\":0.2}},\"type\":\"bar\"}],\"scattergeo\":[{\"type\":\"scattergeo\",\"marker\":{\"colorbar\":{\"outlinewidth\":0,\"ticks\":\"\"}}}],\"scatterpolar\":[{\"type\":\"scatterpolar\",\"marker\":{\"colorbar\":{\"outlinewidth\":0,\"ticks\":\"\"}}}],\"histogram\":[{\"marker\":{\"pattern\":{\"fillmode\":\"overlay\",\"size\":10,\"solidity\":0.2}},\"type\":\"histogram\"}],\"scattergl\":[{\"type\":\"scattergl\",\"marker\":{\"colorbar\":{\"outlinewidth\":0,\"ticks\":\"\"}}}],\"scatter3d\":[{\"type\":\"scatter3d\",\"line\":{\"colorbar\":{\"outlinewidth\":0,\"ticks\":\"\"}},\"marker\":{\"colorbar\":{\"outlinewidth\":0,\"ticks\":\"\"}}}],\"scattermapbox\":[{\"type\":\"scattermapbox\",\"marker\":{\"colorbar\":{\"outlinewidth\":0,\"ticks\":\"\"}}}],\"scatterternary\":[{\"type\":\"scatterternary\",\"marker\":{\"colorbar\":{\"outlinewidth\":0,\"ticks\":\"\"}}}],\"scattercarpet\":[{\"type\":\"scattercarpet\",\"marker\":{\"colorbar\":{\"outlinewidth\":0,\"ticks\":\"\"}}}],\"carpet\":[{\"aaxis\":{\"endlinecolor\":\"#2a3f5f\",\"gridcolor\":\"white\",\"linecolor\":\"white\",\"minorgridcolor\":\"white\",\"startlinecolor\":\"#2a3f5f\"},\"baxis\":{\"endlinecolor\":\"#2a3f5f\",\"gridcolor\":\"white\",\"linecolor\":\"white\",\"minorgridcolor\":\"white\",\"startlinecolor\":\"#2a3f5f\"},\"type\":\"carpet\"}],\"table\":[{\"cells\":{\"fill\":{\"color\":\"#EBF0F8\"},\"line\":{\"color\":\"white\"}},\"header\":{\"fill\":{\"color\":\"#C8D4E3\"},\"line\":{\"color\":\"white\"}},\"type\":\"table\"}],\"barpolar\":[{\"marker\":{\"line\":{\"color\":\"#E5ECF6\",\"width\":0.5},\"pattern\":{\"fillmode\":\"overlay\",\"size\":10,\"solidity\":0.2}},\"type\":\"barpolar\"}],\"pie\":[{\"automargin\":true,\"type\":\"pie\"}]},\"layout\":{\"autotypenumbers\":\"strict\",\"colorway\":[\"#636efa\",\"#EF553B\",\"#00cc96\",\"#ab63fa\",\"#FFA15A\",\"#19d3f3\",\"#FF6692\",\"#B6E880\",\"#FF97FF\",\"#FECB52\"],\"font\":{\"color\":\"#2a3f5f\"},\"hovermode\":\"closest\",\"hoverlabel\":{\"align\":\"left\"},\"paper_bgcolor\":\"white\",\"plot_bgcolor\":\"#E5ECF6\",\"polar\":{\"bgcolor\":\"#E5ECF6\",\"angularaxis\":{\"gridcolor\":\"white\",\"linecolor\":\"white\",\"ticks\":\"\"},\"radialaxis\":{\"gridcolor\":\"white\",\"linecolor\":\"white\",\"ticks\":\"\"}},\"ternary\":{\"bgcolor\":\"#E5ECF6\",\"aaxis\":{\"gridcolor\":\"white\",\"linecolor\":\"white\",\"ticks\":\"\"},\"baxis\":{\"gridcolor\":\"white\",\"linecolor\":\"white\",\"ticks\":\"\"},\"caxis\":{\"gridcolor\":\"white\",\"linecolor\":\"white\",\"ticks\":\"\"}},\"coloraxis\":{\"colorbar\":{\"outlinewidth\":0,\"ticks\":\"\"}},\"colorscale\":{\"sequential\":[[0.0,\"#0d0887\"],[0.1111111111111111,\"#46039f\"],[0.2222222222222222,\"#7201a8\"],[0.3333333333333333,\"#9c179e\"],[0.4444444444444444,\"#bd3786\"],[0.5555555555555556,\"#d8576b\"],[0.6666666666666666,\"#ed7953\"],[0.7777777777777778,\"#fb9f3a\"],[0.8888888888888888,\"#fdca26\"],[1.0,\"#f0f921\"]],\"sequentialminus\":[[0.0,\"#0d0887\"],[0.1111111111111111,\"#46039f\"],[0.2222222222222222,\"#7201a8\"],[0.3333333333333333,\"#9c179e\"],[0.4444444444444444,\"#bd3786\"],[0.5555555555555556,\"#d8576b\"],[0.6666666666666666,\"#ed7953\"],[0.7777777777777778,\"#fb9f3a\"],[0.8888888888888888,\"#fdca26\"],[1.0,\"#f0f921\"]],\"diverging\":[[0,\"#8e0152\"],[0.1,\"#c51b7d\"],[0.2,\"#de77ae\"],[0.3,\"#f1b6da\"],[0.4,\"#fde0ef\"],[0.5,\"#f7f7f7\"],[0.6,\"#e6f5d0\"],[0.7,\"#b8e186\"],[0.8,\"#7fbc41\"],[0.9,\"#4d9221\"],[1,\"#276419\"]]},\"xaxis\":{\"gridcolor\":\"white\",\"linecolor\":\"white\",\"ticks\":\"\",\"title\":{\"standoff\":15},\"zerolinecolor\":\"white\",\"automargin\":true,\"zerolinewidth\":2},\"yaxis\":{\"gridcolor\":\"white\",\"linecolor\":\"white\",\"ticks\":\"\",\"title\":{\"standoff\":15},\"zerolinecolor\":\"white\",\"automargin\":true,\"zerolinewidth\":2},\"scene\":{\"xaxis\":{\"backgroundcolor\":\"#E5ECF6\",\"gridcolor\":\"white\",\"linecolor\":\"white\",\"showbackground\":true,\"ticks\":\"\",\"zerolinecolor\":\"white\",\"gridwidth\":2},\"yaxis\":{\"backgroundcolor\":\"#E5ECF6\",\"gridcolor\":\"white\",\"linecolor\":\"white\",\"showbackground\":true,\"ticks\":\"\",\"zerolinecolor\":\"white\",\"gridwidth\":2},\"zaxis\":{\"backgroundcolor\":\"#E5ECF6\",\"gridcolor\":\"white\",\"linecolor\":\"white\",\"showbackground\":true,\"ticks\":\"\",\"zerolinecolor\":\"white\",\"gridwidth\":2}},\"shapedefaults\":{\"line\":{\"color\":\"#2a3f5f\"}},\"annotationdefaults\":{\"arrowcolor\":\"#2a3f5f\",\"arrowhead\":0,\"arrowwidth\":1},\"geo\":{\"bgcolor\":\"white\",\"landcolor\":\"#E5ECF6\",\"subunitcolor\":\"white\",\"showland\":true,\"showlakes\":true,\"lakecolor\":\"white\"},\"title\":{\"x\":0.05},\"mapbox\":{\"style\":\"light\"}}},\"geo\":{\"domain\":{\"x\":[0.0,1.0],\"y\":[0.0,1.0]},\"center\":{},\"scope\":\"world\"},\"coloraxis\":{\"colorbar\":{\"title\":{\"text\":\"capacity in MW\"}},\"colorscale\":[[0.0,\"rgb(247,252,240)\"],[0.125,\"rgb(224,243,219)\"],[0.25,\"rgb(204,235,197)\"],[0.375,\"rgb(168,221,181)\"],[0.5,\"rgb(123,204,196)\"],[0.625,\"rgb(78,179,211)\"],[0.75,\"rgb(43,140,190)\"],[0.875,\"rgb(8,104,172)\"],[1.0,\"rgb(8,64,129)\"]],\"cmin\":0,\"cmax\":1500000},\"legend\":{\"tracegroupgap\":0},\"margin\":{\"t\":60},\"height\":500},                        {\"responsive\": true}                    ).then(function(){\n",
              "                            \n",
              "var gd = document.getElementById('04cf483d-017f-4e84-9002-74785c717321');\n",
              "var x = new MutationObserver(function (mutations, observer) {{\n",
              "        var display = window.getComputedStyle(gd).display;\n",
              "        if (!display || display === 'none') {{\n",
              "            console.log([gd, 'removed!']);\n",
              "            Plotly.purge(gd);\n",
              "            observer.disconnect();\n",
              "        }}\n",
              "}});\n",
              "\n",
              "// Listen for the removal of the full notebook cells\n",
              "var notebookContainer = gd.closest('#notebook-container');\n",
              "if (notebookContainer) {{\n",
              "    x.observe(notebookContainer, {childList: true});\n",
              "}}\n",
              "\n",
              "// Listen for the clearing of the current output cell\n",
              "var outputEl = gd.closest('.output');\n",
              "if (outputEl) {{\n",
              "    x.observe(outputEl, {childList: true});\n",
              "}}\n",
              "\n",
              "                        })                };                            </script>        </div>\n",
              "</body>\n",
              "</html>"
            ]
          },
          "metadata": {}
        }
      ]
    },
    {
      "cell_type": "markdown",
      "source": [
        "this map is used tho show the production of electricity in each country"
      ],
      "metadata": {
        "id": "_AGzZAyWOAzE"
      }
    },
    {
      "cell_type": "code",
      "source": [
        "power['primary_fuel'].nunique() # getting number of unique value present in primary fuel column"
      ],
      "metadata": {
        "colab": {
          "base_uri": "https://localhost:8080/"
        },
        "id": "bkT-R9darcqV",
        "outputId": "fb6d877b-0838-4732-83f0-24fa01254159"
      },
      "execution_count": null,
      "outputs": [
        {
          "output_type": "execute_result",
          "data": {
            "text/plain": [
              "15"
            ]
          },
          "metadata": {},
          "execution_count": 74
        }
      ]
    },
    {
      "cell_type": "code",
      "source": [
        "lst1=lst['country_long'].value_counts() # getting count of all values present in country long\n",
        "tisland=lst['country_long'].unique() # getting unique values present in country long\n",
        "\n",
        "plt.bar(tisland, lst1,color ='maroon',\n",
        "        width = 0.4)\n",
        "#plotting bar graph\n",
        "\n",
        "plt.xlabel(\"countries\") # x-axis label\n",
        "plt.ylabel(\"productions\") # y-axis label\n",
        "plt.xticks(rotation=90, ha='right') # rotating x-axis names by 90 degrees anti clock wise\n",
        "plt.show() # plotting"
      ],
      "metadata": {
        "colab": {
          "base_uri": "https://localhost:8080/",
          "height": 609
        },
        "id": "i3UmxFYq2jxx",
        "outputId": "4e0a4450-399e-423f-d494-932c68b461e1"
      },
      "execution_count": null,
      "outputs": [
        {
          "output_type": "display_data",
          "data": {
            "text/plain": [
              "<Figure size 640x480 with 1 Axes>"
            ],
            "image/png": "[encoded data removed]"
          },
          "metadata": {}
        }
      ]
    },
    {
      "cell_type": "markdown",
      "source": [
        "this is used to show the  production of countries around the world"
      ],
      "metadata": {
        "id": "zcm-cVYJOUgv"
      }
    },
    {
      "cell_type": "code",
      "source": [
        "# plotting Heat Map\n",
        "\n",
        "plt.figure(figsize=(10,7))\n",
        "sns.heatmap(power.corr(),annot=True)"
      ],
      "metadata": {
        "colab": {
          "base_uri": "https://localhost:8080/",
          "height": 928
        },
        "id": "ChFfqt4x7_xG",
        "outputId": "5067fc00-d3c2-4b14-d34e-18e50ff46fcb"
      },
      "execution_count": null,
      "outputs": [
        {
          "output_type": "stream",
          "name": "stderr",
          "text": [
            "<ipython-input-76-681e309c8352>:4: FutureWarning:\n",
            "\n",
            "The default value of numeric_only in DataFrame.corr is deprecated. In a future version, it will default to False. Select only valid columns or specify the value of numeric_only to silence this warning.\n",
            "\n"
          ]
        },
        {
          "output_type": "execute_result",
          "data": {
            "text/plain": [
              "<Axes: >"
            ]
          },
          "metadata": {},
          "execution_count": 76
        },
        {
          "output_type": "display_data",
          "data": {
            "text/plain": [
              "<Figure size 1000x700 with 2 Axes>"
            ],
            "image/png": "[encoded data removed]"
          },
          "metadata": {}
        }
      ]
    },
    {
      "cell_type": "markdown",
      "source": [
        "this heatmap shows the co-relation between any two columns"
      ],
      "metadata": {
        "id": "fgJ9OO08OiH1"
      }
    },
    {
      "cell_type": "code",
      "source": [
        "power.dropna(subset=['estimated_generation_gwh_2021'],inplace=True)\n",
        " # dropping estimated_generation_gwh_2021 from data set\n",
        "power.info()"
      ],
      "metadata": {
        "colab": {
          "base_uri": "https://localhost:8080/"
        },
        "id": "mkMry0pKDS2y",
        "outputId": "9d4d82f4-ce49-4e05-9a4d-19e559e477b4"
      },
      "execution_count": null,
      "outputs": [
        {
          "output_type": "stream",
          "name": "stdout",
          "text": [
            "<class 'pandas.core.frame.DataFrame'>\n",
            "Int64Index: 16120 entries, 0 to 34935\n",
            "Data columns (total 15 columns):\n",
            " #   Column                         Non-Null Count  Dtype  \n",
            "---  ------                         --------------  -----  \n",
            " 0   country code                   16120 non-null  object \n",
            " 1   country_long                   16120 non-null  object \n",
            " 2   name of powerplant             16120 non-null  object \n",
            " 3   capacity in MW                 16120 non-null  float64\n",
            " 4   latitude                       16120 non-null  float64\n",
            " 5   longitude                      16120 non-null  float64\n",
            " 6   primary_fuel                   16120 non-null  object \n",
            " 7   secondary fuel                 23 non-null     object \n",
            " 8   other_fuel2                    1 non-null      object \n",
            " 9   other_fuel3                    0 non-null      object \n",
            " 10  start date                     5644 non-null   float64\n",
            " 11  owner of plant                 7243 non-null   object \n",
            " 12  generation_gwh_2021            2559 non-null   float64\n",
            " 13  geolocation_source             15850 non-null  object \n",
            " 14  estimated_generation_gwh_2021  16120 non-null  float64\n",
            "dtypes: float64(6), object(9)\n",
            "memory usage: 2.0+ MB\n"
          ]
        }
      ]
    },
    {
      "cell_type": "code",
      "source": [
        "# grouping all int and float type columns\n",
        "num_types = power.select_dtypes(include=['int64', 'float64'])\n",
        "\n",
        "temp=num_types['latitude']\n",
        "temp1=num_types['longitude']\n",
        "temp2=num_types['start date']\n",
        "\n",
        "num_types.drop(columns=['latitude','longitude','start date'],inplace=True)\n",
        "# dropping 'latitude','longitude','start date' columns and having a backup in temp,temp1,temp2"
      ],
      "metadata": {
        "id": "DuTg-16h-zXS"
      },
      "execution_count": null,
      "outputs": []
    },
    {
      "cell_type": "code",
      "source": [
        "num_types.drop(columns=['generation_gwh_2021'],inplace=True)\n",
        "#drop generaton_gwh_2021 column"
      ],
      "metadata": {
        "id": "H-sQFLms_R9Y"
      },
      "execution_count": null,
      "outputs": []
    },
    {
      "cell_type": "code",
      "source": [
        "scaler = StandardScaler()\n",
        "# standardizing numerical columns\n",
        "num_type= pd.DataFrame(scaler.fit_transform(num_types),\n",
        "                                    columns = num_types.columns,\n",
        "                                    index = num_types.index)\n",
        "transformed=pd.concat([num_type,temp1,temp],axis=1)\n",
        "# concating numerical and 'latitude','longitude' columns\n",
        "transformed"
      ],
      "metadata": {
        "colab": {
          "base_uri": "https://localhost:8080/",
          "height": 424
        },
        "id": "yHO9EkeF_NuF",
        "outputId": "f1385d86-fcee-43bf-ba93-322726cda3a9"
      },
      "execution_count": null,
      "outputs": [
        {
          "output_type": "execute_result",
          "data": {
            "text/plain": [
              "       capacity in MW  estimated_generation_gwh_2021  longitude  latitude\n",
              "0           -0.133548                      -0.096827    65.1190   32.3220\n",
              "1           -0.205780                      -0.185257    65.7950   31.6700\n",
              "2           -0.205780                      -0.185081    65.7920   31.6230\n",
              "3           -0.029911                      -0.011796    69.4787   34.5560\n",
              "4            0.076866                       0.140232    69.7170   34.6410\n",
              "...               ...                            ...        ...       ...\n",
              "34922        2.871913                       3.192831    28.4199  -15.8089\n",
              "34923        2.683483                       3.962814    28.7619  -16.5222\n",
              "34927       -0.199499                      -0.178499    30.8649  -12.9884\n",
              "34933        0.101990                       0.282624    25.8500  -17.9167\n",
              "34935        2.118193                       3.156960    28.7619  -16.5222\n",
              "\n",
              "[16120 rows x 4 columns]"
            ],
            "text/html": [
              "\n",
              "  <div id=\"df-3c2a575d-ee6d-4924-9e9d-3350bf83d48d\">\n",
              "    <div class=\"colab-df-container\">\n",
              "      <div>\n",
              "<style scoped>\n",
              "    .dataframe tbody tr th:only-of-type {\n",
              "        vertical-align: middle;\n",
              "    }\n",
              "\n",
              "    .dataframe tbody tr th {\n",
              "        vertical-align: top;\n",
              "    }\n",
              "\n",
              "    .dataframe thead th {\n",
              "        text-align: right;\n",
              "    }\n",
              "</style>\n",
              "<table border=\"1\" class=\"dataframe\">\n",
              "  <thead>\n",
              "    <tr style=\"text-align: right;\">\n",
              "      <th></th>\n",
              "      <th>capacity in MW</th>\n",
              "      <th>estimated_generation_gwh_2021</th>\n",
              "      <th>longitude</th>\n",
              "      <th>latitude</th>\n",
              "    </tr>\n",
              "  </thead>\n",
              "  <tbody>\n",
              "    <tr>\n",
              "      <th>0</th>\n",
              "      <td>-0.133548</td>\n",
              "      <td>-0.096827</td>\n",
              "      <td>65.1190</td>\n",
              "      <td>32.3220</td>\n",
              "    </tr>\n",
              "    <tr>\n",
              "      <th>1</th>\n",
              "      <td>-0.205780</td>\n",
              "      <td>-0.185257</td>\n",
              "      <td>65.7950</td>\n",
              "      <td>31.6700</td>\n",
              "    </tr>\n",
              "    <tr>\n",
              "      <th>2</th>\n",
              "      <td>-0.205780</td>\n",
              "      <td>-0.185081</td>\n",
              "      <td>65.7920</td>\n",
              "      <td>31.6230</td>\n",
              "    </tr>\n",
              "    <tr>\n",
              "      <th>3</th>\n",
              "      <td>-0.029911</td>\n",
              "      <td>-0.011796</td>\n",
              "      <td>69.4787</td>\n",
              "      <td>34.5560</td>\n",
              "    </tr>\n",
              "    <tr>\n",
              "      <th>4</th>\n",
              "      <td>0.076866</td>\n",
              "      <td>0.140232</td>\n",
              "      <td>69.7170</td>\n",
              "      <td>34.6410</td>\n",
              "    </tr>\n",
              "    <tr>\n",
              "      <th>...</th>\n",
              "      <td>...</td>\n",
              "      <td>...</td>\n",
              "      <td>...</td>\n",
              "      <td>...</td>\n",
              "    </tr>\n",
              "    <tr>\n",
              "      <th>34922</th>\n",
              "      <td>2.871913</td>\n",
              "      <td>3.192831</td>\n",
              "      <td>28.4199</td>\n",
              "      <td>-15.8089</td>\n",
              "    </tr>\n",
              "    <tr>\n",
              "      <th>34923</th>\n",
              "      <td>2.683483</td>\n",
              "      <td>3.962814</td>\n",
              "      <td>28.7619</td>\n",
              "      <td>-16.5222</td>\n",
              "    </tr>\n",
              "    <tr>\n",
              "      <th>34927</th>\n",
              "      <td>-0.199499</td>\n",
              "      <td>-0.178499</td>\n",
              "      <td>30.8649</td>\n",
              "      <td>-12.9884</td>\n",
              "    </tr>\n",
              "    <tr>\n",
              "      <th>34933</th>\n",
              "      <td>0.101990</td>\n",
              "      <td>0.282624</td>\n",
              "      <td>25.8500</td>\n",
              "      <td>-17.9167</td>\n",
              "    </tr>\n",
              "    <tr>\n",
              "      <th>34935</th>\n",
              "      <td>2.118193</td>\n",
              "      <td>3.156960</td>\n",
              "      <td>28.7619</td>\n",
              "      <td>-16.5222</td>\n",
              "    </tr>\n",
              "  </tbody>\n",
              "</table>\n",
              "<p>16120 rows × 4 columns</p>\n",
              "</div>\n",
              "      <button class=\"colab-df-convert\" onclick=\"convertToInteractive('df-3c2a575d-ee6d-4924-9e9d-3350bf83d48d')\"\n",
              "              title=\"Convert this dataframe to an interactive table.\"\n",
              "              style=\"display:none;\">\n",
              "        \n",
              "  <svg xmlns=\"http://www.w3.org/2000/svg\" height=\"24px\"viewBox=\"0 0 24 24\"\n",
              "       width=\"24px\">\n",
              "    <path d=\"M0 0h24v24H0V0z\" fill=\"none\"/>\n",
              "    <path d=\"M18.56 5.44l.94 2.06.94-2.06 2.06-.94-2.06-.94-.94-2.06-.94 2.06-2.06.94zm-11 1L8.5 8.5l.94-2.06 2.06-.94-2.06-.94L8.5 2.5l-.94 2.06-2.06.94zm10 10l.94 2.06.94-2.06 2.06-.94-2.06-.94-.94-2.06-.94 2.06-2.06.94z\"/><path d=\"M17.41 7.96l-1.37-1.37c-.4-.4-.92-.59-1.43-.59-.52 0-1.04.2-1.43.59L10.3 9.45l-7.72 7.72c-.78.78-.78 2.05 0 2.83L4 21.41c.39.39.9.59 1.41.59.51 0 1.02-.2 1.41-.59l7.78-7.78 2.81-2.81c.8-.78.8-2.07 0-2.86zM5.41 20L4 18.59l7.72-7.72 1.47 1.35L5.41 20z\"/>\n",
              "  </svg>\n",
              "      </button>\n",
              "      \n",
              "  <style>\n",
              "    .colab-df-container {\n",
              "      display:flex;\n",
              "      flex-wrap:wrap;\n",
              "      gap: 12px;\n",
              "    }\n",
              "\n",
              "    .colab-df-convert {\n",
              "      background-color: #E8F0FE;\n",
              "      border: none;\n",
              "      border-radius: 50%;\n",
              "      cursor: pointer;\n",
              "      display: none;\n",
              "      fill: #1967D2;\n",
              "      height: 32px;\n",
              "      padding: 0 0 0 0;\n",
              "      width: 32px;\n",
              "    }\n",
              "\n",
              "    .colab-df-convert:hover {\n",
              "      background-color: #E2EBFA;\n",
              "      box-shadow: 0px 1px 2px rgba(60, 64, 67, 0.3), 0px 1px 3px 1px rgba(60, 64, 67, 0.15);\n",
              "      fill: #174EA6;\n",
              "    }\n",
              "\n",
              "    [theme=dark] .colab-df-convert {\n",
              "      background-color: #3B4455;\n",
              "      fill: #D2E3FC;\n",
              "    }\n",
              "\n",
              "    [theme=dark] .colab-df-convert:hover {\n",
              "      background-color: #434B5C;\n",
              "      box-shadow: 0px 1px 3px 1px rgba(0, 0, 0, 0.15);\n",
              "      filter: drop-shadow(0px 1px 2px rgba(0, 0, 0, 0.3));\n",
              "      fill: #FFFFFF;\n",
              "    }\n",
              "  </style>\n",
              "\n",
              "      <script>\n",
              "        const buttonEl =\n",
              "          document.querySelector('#df-3c2a575d-ee6d-4924-9e9d-3350bf83d48d button.colab-df-convert');\n",
              "        buttonEl.style.display =\n",
              "          google.colab.kernel.accessAllowed ? 'block' : 'none';\n",
              "\n",
              "        async function convertToInteractive(key) {\n",
              "          const element = document.querySelector('#df-3c2a575d-ee6d-4924-9e9d-3350bf83d48d');\n",
              "          const dataTable =\n",
              "            await google.colab.kernel.invokeFunction('convertToInteractive',\n",
              "                                                     [key], {});\n",
              "          if (!dataTable) return;\n",
              "\n",
              "          const docLinkHtml = 'Like what you see? Visit the ' +\n",
              "            '<a target=\"_blank\" href=https://colab.research.google.com/notebooks/data_table.ipynb>data table notebook</a>'\n",
              "            + ' to learn more about interactive tables.';\n",
              "          element.innerHTML = '';\n",
              "          dataTable['output_type'] = 'display_data';\n",
              "          await google.colab.output.renderOutput(dataTable, element);\n",
              "          const docLink = document.createElement('div');\n",
              "          docLink.innerHTML = docLinkHtml;\n",
              "          element.appendChild(docLink);\n",
              "        }\n",
              "      </script>\n",
              "    </div>\n",
              "  </div>\n",
              "  "
            ]
          },
          "metadata": {},
          "execution_count": 80
        }
      ]
    },
    {
      "cell_type": "code",
      "source": [
        "# separating target column and data set\n",
        "X=transformed.drop('estimated_generation_gwh_2021',axis=1)\n",
        "y=transformed['estimated_generation_gwh_2021']"
      ],
      "metadata": {
        "id": "X8K7SMm2EVpi"
      },
      "execution_count": null,
      "outputs": []
    },
    {
      "cell_type": "code",
      "source": [
        "# Train_test_split is used to split data set into 4 parts\n",
        "# X_train : traning dataset used to train model\n",
        "# y_train : output for traning dataset used to verify\n",
        "\n",
        "from sklearn.model_selection import train_test_split\n",
        "X_train, X_test, y_train, y_test = train_test_split(X, y, train_size=0.7, random_state=100)\n",
        "\n",
        "# X_test : testing data set to test the model\n",
        "# y_test : used to test model after prediction\n",
        "\n",
        "X_train.isnull().sum()"
      ],
      "metadata": {
        "colab": {
          "base_uri": "https://localhost:8080/"
        },
        "id": "h3l41BcXFCc6",
        "outputId": "89a414ac-8893-4061-83ab-6a6dbafe5c36"
      },
      "execution_count": null,
      "outputs": [
        {
          "output_type": "execute_result",
          "data": {
            "text/plain": [
              "capacity in MW    0\n",
              "longitude         0\n",
              "latitude          0\n",
              "dtype: int64"
            ]
          },
          "metadata": {},
          "execution_count": 84
        }
      ]
    },
    {
      "cell_type": "code",
      "source": [
        "# lists to store algorithm names and accuracy of those algorithms\n",
        "alg_name=[]\n",
        "alg_values=[]\n",
        "alg_error=[]"
      ],
      "metadata": {
        "id": "KpAUktJW9fYb"
      },
      "execution_count": null,
      "outputs": []
    },
    {
      "cell_type": "code",
      "source": [
        "# evaluation measures\n",
        "\n",
        "def printing(name,y_test,y_test_pred):\n",
        "  alg_name.append(name)\n",
        "  print('Mean Absolute Error: ', metrics.mean_absolute_error(y_test, y_test_pred))\n",
        "  print('Mean Squared Error: ', metrics.mean_squared_error(y_test, y_test_pred))\n",
        "  print('Root Mean Squared Error: ', np.sqrt(metrics.mean_squared_error(y_test, y_test_pred)))\n",
        "  print('Mean Absolute percentage Error: ', metrics.mean_absolute_percentage_error(y_test, y_test_pred))\n",
        "  alg_values.append(r2_score(y_test,y_test_pred))\n",
        "  alg_error.append( metrics.mean_absolute_percentage_error(y_test, y_test_pred))\n",
        "  print(\"R-Square is\",r2_score(y_test,y_test_pred))"
      ],
      "metadata": {
        "id": "SpYlosOGI2CQ"
      },
      "execution_count": null,
      "outputs": []
    },
    {
      "cell_type": "code",
      "source": [
        "# K-Neighbors Regression\n",
        "\n",
        "from sklearn.neighbors import KNeighborsRegressor\n",
        "\n",
        "regressor_knn = KNeighborsRegressor()\n",
        "regressor_knn.fit(X_train, y_train) # learning\n",
        "y_test_pred = regressor_knn.predict(X_test)# predicting\n",
        "temp_df = pd.DataFrame({'Actual': y_test, 'Predicted': y_test_pred})\n",
        "temp_df.head()\n",
        "# comparion between actual values and predicted values"
      ],
      "metadata": {
        "colab": {
          "base_uri": "https://localhost:8080/",
          "height": 206
        },
        "id": "441a9cFgImSK",
        "outputId": "7a9cc45d-c7c4-4345-a27d-8813e1d5e343"
      },
      "execution_count": null,
      "outputs": [
        {
          "output_type": "execute_result",
          "data": {
            "text/plain": [
              "         Actual  Predicted\n",
              "18228 -0.044872  -0.127844\n",
              "2436  -0.197933  -0.150483\n",
              "1911  -0.160996   0.069696\n",
              "13714 -0.198630  -0.192379\n",
              "27464 -0.195465  -0.175068"
            ],
            "text/html": [
              "\n",
              "  <div id=\"df-4e795a55-c42f-442c-a8b1-a0cae6a76855\">\n",
              "    <div class=\"colab-df-container\">\n",
              "      <div>\n",
              "<style scoped>\n",
              "    .dataframe tbody tr th:only-of-type {\n",
              "        vertical-align: middle;\n",
              "    }\n",
              "\n",
              "    .dataframe tbody tr th {\n",
              "        vertical-align: top;\n",
              "    }\n",
              "\n",
              "    .dataframe thead th {\n",
              "        text-align: right;\n",
              "    }\n",
              "</style>\n",
              "<table border=\"1\" class=\"dataframe\">\n",
              "  <thead>\n",
              "    <tr style=\"text-align: right;\">\n",
              "      <th></th>\n",
              "      <th>Actual</th>\n",
              "      <th>Predicted</th>\n",
              "    </tr>\n",
              "  </thead>\n",
              "  <tbody>\n",
              "    <tr>\n",
              "      <th>18228</th>\n",
              "      <td>-0.044872</td>\n",
              "      <td>-0.127844</td>\n",
              "    </tr>\n",
              "    <tr>\n",
              "      <th>2436</th>\n",
              "      <td>-0.197933</td>\n",
              "      <td>-0.150483</td>\n",
              "    </tr>\n",
              "    <tr>\n",
              "      <th>1911</th>\n",
              "      <td>-0.160996</td>\n",
              "      <td>0.069696</td>\n",
              "    </tr>\n",
              "    <tr>\n",
              "      <th>13714</th>\n",
              "      <td>-0.198630</td>\n",
              "      <td>-0.192379</td>\n",
              "    </tr>\n",
              "    <tr>\n",
              "      <th>27464</th>\n",
              "      <td>-0.195465</td>\n",
              "      <td>-0.175068</td>\n",
              "    </tr>\n",
              "  </tbody>\n",
              "</table>\n",
              "</div>\n",
              "      <button class=\"colab-df-convert\" onclick=\"convertToInteractive('df-4e795a55-c42f-442c-a8b1-a0cae6a76855')\"\n",
              "              title=\"Convert this dataframe to an interactive table.\"\n",
              "              style=\"display:none;\">\n",
              "        \n",
              "  <svg xmlns=\"http://www.w3.org/2000/svg\" height=\"24px\"viewBox=\"0 0 24 24\"\n",
              "       width=\"24px\">\n",
              "    <path d=\"M0 0h24v24H0V0z\" fill=\"none\"/>\n",
              "    <path d=\"M18.56 5.44l.94 2.06.94-2.06 2.06-.94-2.06-.94-.94-2.06-.94 2.06-2.06.94zm-11 1L8.5 8.5l.94-2.06 2.06-.94-2.06-.94L8.5 2.5l-.94 2.06-2.06.94zm10 10l.94 2.06.94-2.06 2.06-.94-2.06-.94-.94-2.06-.94 2.06-2.06.94z\"/><path d=\"M17.41 7.96l-1.37-1.37c-.4-.4-.92-.59-1.43-.59-.52 0-1.04.2-1.43.59L10.3 9.45l-7.72 7.72c-.78.78-.78 2.05 0 2.83L4 21.41c.39.39.9.59 1.41.59.51 0 1.02-.2 1.41-.59l7.78-7.78 2.81-2.81c.8-.78.8-2.07 0-2.86zM5.41 20L4 18.59l7.72-7.72 1.47 1.35L5.41 20z\"/>\n",
              "  </svg>\n",
              "      </button>\n",
              "      \n",
              "  <style>\n",
              "    .colab-df-container {\n",
              "      display:flex;\n",
              "      flex-wrap:wrap;\n",
              "      gap: 12px;\n",
              "    }\n",
              "\n",
              "    .colab-df-convert {\n",
              "      background-color: #E8F0FE;\n",
              "      border: none;\n",
              "      border-radius: 50%;\n",
              "      cursor: pointer;\n",
              "      display: none;\n",
              "      fill: #1967D2;\n",
              "      height: 32px;\n",
              "      padding: 0 0 0 0;\n",
              "      width: 32px;\n",
              "    }\n",
              "\n",
              "    .colab-df-convert:hover {\n",
              "      background-color: #E2EBFA;\n",
              "      box-shadow: 0px 1px 2px rgba(60, 64, 67, 0.3), 0px 1px 3px 1px rgba(60, 64, 67, 0.15);\n",
              "      fill: #174EA6;\n",
              "    }\n",
              "\n",
              "    [theme=dark] .colab-df-convert {\n",
              "      background-color: #3B4455;\n",
              "      fill: #D2E3FC;\n",
              "    }\n",
              "\n",
              "    [theme=dark] .colab-df-convert:hover {\n",
              "      background-color: #434B5C;\n",
              "      box-shadow: 0px 1px 3px 1px rgba(0, 0, 0, 0.15);\n",
              "      filter: drop-shadow(0px 1px 2px rgba(0, 0, 0, 0.3));\n",
              "      fill: #FFFFFF;\n",
              "    }\n",
              "  </style>\n",
              "\n",
              "      <script>\n",
              "        const buttonEl =\n",
              "          document.querySelector('#df-4e795a55-c42f-442c-a8b1-a0cae6a76855 button.colab-df-convert');\n",
              "        buttonEl.style.display =\n",
              "          google.colab.kernel.accessAllowed ? 'block' : 'none';\n",
              "\n",
              "        async function convertToInteractive(key) {\n",
              "          const element = document.querySelector('#df-4e795a55-c42f-442c-a8b1-a0cae6a76855');\n",
              "          const dataTable =\n",
              "            await google.colab.kernel.invokeFunction('convertToInteractive',\n",
              "                                                     [key], {});\n",
              "          if (!dataTable) return;\n",
              "\n",
              "          const docLinkHtml = 'Like what you see? Visit the ' +\n",
              "            '<a target=\"_blank\" href=https://colab.research.google.com/notebooks/data_table.ipynb>data table notebook</a>'\n",
              "            + ' to learn more about interactive tables.';\n",
              "          element.innerHTML = '';\n",
              "          dataTable['output_type'] = 'display_data';\n",
              "          await google.colab.output.renderOutput(dataTable, element);\n",
              "          const docLink = document.createElement('div');\n",
              "          docLink.innerHTML = docLinkHtml;\n",
              "          element.appendChild(docLink);\n",
              "        }\n",
              "      </script>\n",
              "    </div>\n",
              "  </div>\n",
              "  "
            ]
          },
          "metadata": {},
          "execution_count": 87
        }
      ]
    },
    {
      "cell_type": "code",
      "source": [
        "printing(\"KNN\",y_test,y_test_pred)\n",
        "# printing perfomance measures"
      ],
      "metadata": {
        "colab": {
          "base_uri": "https://localhost:8080/"
        },
        "id": "lWW1Nt6z_Qjq",
        "outputId": "21f44bb5-8946-4836-ddd5-31ed4b5f63e9"
      },
      "execution_count": null,
      "outputs": [
        {
          "output_type": "stream",
          "name": "stdout",
          "text": [
            "Mean Absolute Error:  0.11523037015755523\n",
            "Mean Squared Error:  0.4700507116212917\n",
            "Root Mean Squared Error:  0.685602444293551\n",
            "Mean Absolute percentage Error:  1.213907615635583\n",
            "R-Square is 0.5678440757000827\n"
          ]
        }
      ]
    },
    {
      "cell_type": "code",
      "source": [
        "# Decision Tree regression\n",
        "from sklearn.tree import DecisionTreeRegressor\n",
        "\n",
        "regressor_dt = DecisionTreeRegressor()\n",
        "regressor_dt.fit(X_train, y_train)# learning\n",
        "y_test_pred = regressor_dt.predict(X_test) # predicting\n",
        "temp_df = pd.DataFrame({'Actual': y_test, 'Predicted': y_test_pred})\n",
        "temp_df\n",
        "# comparion between actual values and predicted values"
      ],
      "metadata": {
        "id": "_fHhncrkI6Ne",
        "colab": {
          "base_uri": "https://localhost:8080/",
          "height": 424
        },
        "outputId": "52984913-bd9b-4389-e943-08fe0e614bf3"
      },
      "execution_count": null,
      "outputs": [
        {
          "output_type": "execute_result",
          "data": {
            "text/plain": [
              "         Actual  Predicted\n",
              "18228 -0.044872   0.174861\n",
              "2436  -0.197933  -0.199268\n",
              "1911  -0.160996  -0.157454\n",
              "13714 -0.198630  -0.198848\n",
              "27464 -0.195465  -0.191864\n",
              "...         ...        ...\n",
              "18648 -0.122741  -0.133042\n",
              "18995 -0.117176  -0.119652\n",
              "8567  -0.139363  -0.139237\n",
              "20089 -0.197614  -0.197883\n",
              "12622 -0.195465  -0.195566\n",
              "\n",
              "[4836 rows x 2 columns]"
            ],
            "text/html": [
              "\n",
              "  <div id=\"df-55896a91-0f70-465e-9bbc-a02e742e745a\">\n",
              "    <div class=\"colab-df-container\">\n",
              "      <div>\n",
              "<style scoped>\n",
              "    .dataframe tbody tr th:only-of-type {\n",
              "        vertical-align: middle;\n",
              "    }\n",
              "\n",
              "    .dataframe tbody tr th {\n",
              "        vertical-align: top;\n",
              "    }\n",
              "\n",
              "    .dataframe thead th {\n",
              "        text-align: right;\n",
              "    }\n",
              "</style>\n",
              "<table border=\"1\" class=\"dataframe\">\n",
              "  <thead>\n",
              "    <tr style=\"text-align: right;\">\n",
              "      <th></th>\n",
              "      <th>Actual</th>\n",
              "      <th>Predicted</th>\n",
              "    </tr>\n",
              "  </thead>\n",
              "  <tbody>\n",
              "    <tr>\n",
              "      <th>18228</th>\n",
              "      <td>-0.044872</td>\n",
              "      <td>0.174861</td>\n",
              "    </tr>\n",
              "    <tr>\n",
              "      <th>2436</th>\n",
              "      <td>-0.197933</td>\n",
              "      <td>-0.199268</td>\n",
              "    </tr>\n",
              "    <tr>\n",
              "      <th>1911</th>\n",
              "      <td>-0.160996</td>\n",
              "      <td>-0.157454</td>\n",
              "    </tr>\n",
              "    <tr>\n",
              "      <th>13714</th>\n",
              "      <td>-0.198630</td>\n",
              "      <td>-0.198848</td>\n",
              "    </tr>\n",
              "    <tr>\n",
              "      <th>27464</th>\n",
              "      <td>-0.195465</td>\n",
              "      <td>-0.191864</td>\n",
              "    </tr>\n",
              "    <tr>\n",
              "      <th>...</th>\n",
              "      <td>...</td>\n",
              "      <td>...</td>\n",
              "    </tr>\n",
              "    <tr>\n",
              "      <th>18648</th>\n",
              "      <td>-0.122741</td>\n",
              "      <td>-0.133042</td>\n",
              "    </tr>\n",
              "    <tr>\n",
              "      <th>18995</th>\n",
              "      <td>-0.117176</td>\n",
              "      <td>-0.119652</td>\n",
              "    </tr>\n",
              "    <tr>\n",
              "      <th>8567</th>\n",
              "      <td>-0.139363</td>\n",
              "      <td>-0.139237</td>\n",
              "    </tr>\n",
              "    <tr>\n",
              "      <th>20089</th>\n",
              "      <td>-0.197614</td>\n",
              "      <td>-0.197883</td>\n",
              "    </tr>\n",
              "    <tr>\n",
              "      <th>12622</th>\n",
              "      <td>-0.195465</td>\n",
              "      <td>-0.195566</td>\n",
              "    </tr>\n",
              "  </tbody>\n",
              "</table>\n",
              "<p>4836 rows × 2 columns</p>\n",
              "</div>\n",
              "      <button class=\"colab-df-convert\" onclick=\"convertToInteractive('df-55896a91-0f70-465e-9bbc-a02e742e745a')\"\n",
              "              title=\"Convert this dataframe to an interactive table.\"\n",
              "              style=\"display:none;\">\n",
              "        \n",
              "  <svg xmlns=\"http://www.w3.org/2000/svg\" height=\"24px\"viewBox=\"0 0 24 24\"\n",
              "       width=\"24px\">\n",
              "    <path d=\"M0 0h24v24H0V0z\" fill=\"none\"/>\n",
              "    <path d=\"M18.56 5.44l.94 2.06.94-2.06 2.06-.94-2.06-.94-.94-2.06-.94 2.06-2.06.94zm-11 1L8.5 8.5l.94-2.06 2.06-.94-2.06-.94L8.5 2.5l-.94 2.06-2.06.94zm10 10l.94 2.06.94-2.06 2.06-.94-2.06-.94-.94-2.06-.94 2.06-2.06.94z\"/><path d=\"M17.41 7.96l-1.37-1.37c-.4-.4-.92-.59-1.43-.59-.52 0-1.04.2-1.43.59L10.3 9.45l-7.72 7.72c-.78.78-.78 2.05 0 2.83L4 21.41c.39.39.9.59 1.41.59.51 0 1.02-.2 1.41-.59l7.78-7.78 2.81-2.81c.8-.78.8-2.07 0-2.86zM5.41 20L4 18.59l7.72-7.72 1.47 1.35L5.41 20z\"/>\n",
              "  </svg>\n",
              "      </button>\n",
              "      \n",
              "  <style>\n",
              "    .colab-df-container {\n",
              "      display:flex;\n",
              "      flex-wrap:wrap;\n",
              "      gap: 12px;\n",
              "    }\n",
              "\n",
              "    .colab-df-convert {\n",
              "      background-color: #E8F0FE;\n",
              "      border: none;\n",
              "      border-radius: 50%;\n",
              "      cursor: pointer;\n",
              "      display: none;\n",
              "      fill: #1967D2;\n",
              "      height: 32px;\n",
              "      padding: 0 0 0 0;\n",
              "      width: 32px;\n",
              "    }\n",
              "\n",
              "    .colab-df-convert:hover {\n",
              "      background-color: #E2EBFA;\n",
              "      box-shadow: 0px 1px 2px rgba(60, 64, 67, 0.3), 0px 1px 3px 1px rgba(60, 64, 67, 0.15);\n",
              "      fill: #174EA6;\n",
              "    }\n",
              "\n",
              "    [theme=dark] .colab-df-convert {\n",
              "      background-color: #3B4455;\n",
              "      fill: #D2E3FC;\n",
              "    }\n",
              "\n",
              "    [theme=dark] .colab-df-convert:hover {\n",
              "      background-color: #434B5C;\n",
              "      box-shadow: 0px 1px 3px 1px rgba(0, 0, 0, 0.15);\n",
              "      filter: drop-shadow(0px 1px 2px rgba(0, 0, 0, 0.3));\n",
              "      fill: #FFFFFF;\n",
              "    }\n",
              "  </style>\n",
              "\n",
              "      <script>\n",
              "        const buttonEl =\n",
              "          document.querySelector('#df-55896a91-0f70-465e-9bbc-a02e742e745a button.colab-df-convert');\n",
              "        buttonEl.style.display =\n",
              "          google.colab.kernel.accessAllowed ? 'block' : 'none';\n",
              "\n",
              "        async function convertToInteractive(key) {\n",
              "          const element = document.querySelector('#df-55896a91-0f70-465e-9bbc-a02e742e745a');\n",
              "          const dataTable =\n",
              "            await google.colab.kernel.invokeFunction('convertToInteractive',\n",
              "                                                     [key], {});\n",
              "          if (!dataTable) return;\n",
              "\n",
              "          const docLinkHtml = 'Like what you see? Visit the ' +\n",
              "            '<a target=\"_blank\" href=https://colab.research.google.com/notebooks/data_table.ipynb>data table notebook</a>'\n",
              "            + ' to learn more about interactive tables.';\n",
              "          element.innerHTML = '';\n",
              "          dataTable['output_type'] = 'display_data';\n",
              "          await google.colab.output.renderOutput(dataTable, element);\n",
              "          const docLink = document.createElement('div');\n",
              "          docLink.innerHTML = docLinkHtml;\n",
              "          element.appendChild(docLink);\n",
              "        }\n",
              "      </script>\n",
              "    </div>\n",
              "  </div>\n",
              "  "
            ]
          },
          "metadata": {},
          "execution_count": 89
        }
      ]
    },
    {
      "cell_type": "code",
      "source": [
        "printing(\"Decision Tree\",y_test,y_test_pred)\n",
        "# printing perfomance measures"
      ],
      "metadata": {
        "colab": {
          "base_uri": "https://localhost:8080/"
        },
        "id": "VO2VTNhaKVJ3",
        "outputId": "8b00e2fd-ea35-465a-d7c5-bc3d13cca4f6"
      },
      "execution_count": null,
      "outputs": [
        {
          "output_type": "stream",
          "name": "stdout",
          "text": [
            "Mean Absolute Error:  0.04493010588978207\n",
            "Mean Squared Error:  0.05833889663975205\n",
            "Root Mean Squared Error:  0.2415344626337038\n",
            "Mean Absolute percentage Error:  0.7043280607557174\n",
            "R-Square is 0.9463642981987406\n"
          ]
        }
      ]
    },
    {
      "cell_type": "code",
      "source": [
        "# Random Forest Regression\n",
        "from sklearn.ensemble import RandomForestRegressor\n",
        "\n",
        "regressor_rf = RandomForestRegressor()\n",
        "regressor_rf.fit(X_train, y_train) # learning\n",
        "y_test_pred = regressor_rf.predict(X_test)# predicting\n",
        "temp_df = pd.DataFrame({'Actual': y_test, 'Predicted': y_test_pred})\n",
        "temp_df\n",
        "# comparion between actual values and predicted values"
      ],
      "metadata": {
        "id": "WNWvaKsRKcgO",
        "colab": {
          "base_uri": "https://localhost:8080/",
          "height": 424
        },
        "outputId": "ccb27a60-2c05-45f4-cd31-8bba4a3e1040"
      },
      "execution_count": null,
      "outputs": [
        {
          "output_type": "execute_result",
          "data": {
            "text/plain": [
              "         Actual  Predicted\n",
              "18228 -0.044872   0.052146\n",
              "2436  -0.197933  -0.198699\n",
              "1911  -0.160996  -0.165077\n",
              "13714 -0.198630  -0.198835\n",
              "27464 -0.195465  -0.193540\n",
              "...         ...        ...\n",
              "18648 -0.122741  -0.128966\n",
              "18995 -0.117176  -0.117831\n",
              "8567  -0.139363  -0.138631\n",
              "20089 -0.197614  -0.197666\n",
              "12622 -0.195465  -0.195312\n",
              "\n",
              "[4836 rows x 2 columns]"
            ],
            "text/html": [
              "\n",
              "  <div id=\"df-029d9067-6009-4c45-afdc-73c186ac7b04\">\n",
              "    <div class=\"colab-df-container\">\n",
              "      <div>\n",
              "<style scoped>\n",
              "    .dataframe tbody tr th:only-of-type {\n",
              "        vertical-align: middle;\n",
              "    }\n",
              "\n",
              "    .dataframe tbody tr th {\n",
              "        vertical-align: top;\n",
              "    }\n",
              "\n",
              "    .dataframe thead th {\n",
              "        text-align: right;\n",
              "    }\n",
              "</style>\n",
              "<table border=\"1\" class=\"dataframe\">\n",
              "  <thead>\n",
              "    <tr style=\"text-align: right;\">\n",
              "      <th></th>\n",
              "      <th>Actual</th>\n",
              "      <th>Predicted</th>\n",
              "    </tr>\n",
              "  </thead>\n",
              "  <tbody>\n",
              "    <tr>\n",
              "      <th>18228</th>\n",
              "      <td>-0.044872</td>\n",
              "      <td>0.052146</td>\n",
              "    </tr>\n",
              "    <tr>\n",
              "      <th>2436</th>\n",
              "      <td>-0.197933</td>\n",
              "      <td>-0.198699</td>\n",
              "    </tr>\n",
              "    <tr>\n",
              "      <th>1911</th>\n",
              "      <td>-0.160996</td>\n",
              "      <td>-0.165077</td>\n",
              "    </tr>\n",
              "    <tr>\n",
              "      <th>13714</th>\n",
              "      <td>-0.198630</td>\n",
              "      <td>-0.198835</td>\n",
              "    </tr>\n",
              "    <tr>\n",
              "      <th>27464</th>\n",
              "      <td>-0.195465</td>\n",
              "      <td>-0.193540</td>\n",
              "    </tr>\n",
              "    <tr>\n",
              "      <th>...</th>\n",
              "      <td>...</td>\n",
              "      <td>...</td>\n",
              "    </tr>\n",
              "    <tr>\n",
              "      <th>18648</th>\n",
              "      <td>-0.122741</td>\n",
              "      <td>-0.128966</td>\n",
              "    </tr>\n",
              "    <tr>\n",
              "      <th>18995</th>\n",
              "      <td>-0.117176</td>\n",
              "      <td>-0.117831</td>\n",
              "    </tr>\n",
              "    <tr>\n",
              "      <th>8567</th>\n",
              "      <td>-0.139363</td>\n",
              "      <td>-0.138631</td>\n",
              "    </tr>\n",
              "    <tr>\n",
              "      <th>20089</th>\n",
              "      <td>-0.197614</td>\n",
              "      <td>-0.197666</td>\n",
              "    </tr>\n",
              "    <tr>\n",
              "      <th>12622</th>\n",
              "      <td>-0.195465</td>\n",
              "      <td>-0.195312</td>\n",
              "    </tr>\n",
              "  </tbody>\n",
              "</table>\n",
              "<p>4836 rows × 2 columns</p>\n",
              "</div>\n",
              "      <button class=\"colab-df-convert\" onclick=\"convertToInteractive('df-029d9067-6009-4c45-afdc-73c186ac7b04')\"\n",
              "              title=\"Convert this dataframe to an interactive table.\"\n",
              "              style=\"display:none;\">\n",
              "        \n",
              "  <svg xmlns=\"http://www.w3.org/2000/svg\" height=\"24px\"viewBox=\"0 0 24 24\"\n",
              "       width=\"24px\">\n",
              "    <path d=\"M0 0h24v24H0V0z\" fill=\"none\"/>\n",
              "    <path d=\"M18.56 5.44l.94 2.06.94-2.06 2.06-.94-2.06-.94-.94-2.06-.94 2.06-2.06.94zm-11 1L8.5 8.5l.94-2.06 2.06-.94-2.06-.94L8.5 2.5l-.94 2.06-2.06.94zm10 10l.94 2.06.94-2.06 2.06-.94-2.06-.94-.94-2.06-.94 2.06-2.06.94z\"/><path d=\"M17.41 7.96l-1.37-1.37c-.4-.4-.92-.59-1.43-.59-.52 0-1.04.2-1.43.59L10.3 9.45l-7.72 7.72c-.78.78-.78 2.05 0 2.83L4 21.41c.39.39.9.59 1.41.59.51 0 1.02-.2 1.41-.59l7.78-7.78 2.81-2.81c.8-.78.8-2.07 0-2.86zM5.41 20L4 18.59l7.72-7.72 1.47 1.35L5.41 20z\"/>\n",
              "  </svg>\n",
              "      </button>\n",
              "      \n",
              "  <style>\n",
              "    .colab-df-container {\n",
              "      display:flex;\n",
              "      flex-wrap:wrap;\n",
              "      gap: 12px;\n",
              "    }\n",
              "\n",
              "    .colab-df-convert {\n",
              "      background-color: #E8F0FE;\n",
              "      border: none;\n",
              "      border-radius: 50%;\n",
              "      cursor: pointer;\n",
              "      display: none;\n",
              "      fill: #1967D2;\n",
              "      height: 32px;\n",
              "      padding: 0 0 0 0;\n",
              "      width: 32px;\n",
              "    }\n",
              "\n",
              "    .colab-df-convert:hover {\n",
              "      background-color: #E2EBFA;\n",
              "      box-shadow: 0px 1px 2px rgba(60, 64, 67, 0.3), 0px 1px 3px 1px rgba(60, 64, 67, 0.15);\n",
              "      fill: #174EA6;\n",
              "    }\n",
              "\n",
              "    [theme=dark] .colab-df-convert {\n",
              "      background-color: #3B4455;\n",
              "      fill: #D2E3FC;\n",
              "    }\n",
              "\n",
              "    [theme=dark] .colab-df-convert:hover {\n",
              "      background-color: #434B5C;\n",
              "      box-shadow: 0px 1px 3px 1px rgba(0, 0, 0, 0.15);\n",
              "      filter: drop-shadow(0px 1px 2px rgba(0, 0, 0, 0.3));\n",
              "      fill: #FFFFFF;\n",
              "    }\n",
              "  </style>\n",
              "\n",
              "      <script>\n",
              "        const buttonEl =\n",
              "          document.querySelector('#df-029d9067-6009-4c45-afdc-73c186ac7b04 button.colab-df-convert');\n",
              "        buttonEl.style.display =\n",
              "          google.colab.kernel.accessAllowed ? 'block' : 'none';\n",
              "\n",
              "        async function convertToInteractive(key) {\n",
              "          const element = document.querySelector('#df-029d9067-6009-4c45-afdc-73c186ac7b04');\n",
              "          const dataTable =\n",
              "            await google.colab.kernel.invokeFunction('convertToInteractive',\n",
              "                                                     [key], {});\n",
              "          if (!dataTable) return;\n",
              "\n",
              "          const docLinkHtml = 'Like what you see? Visit the ' +\n",
              "            '<a target=\"_blank\" href=https://colab.research.google.com/notebooks/data_table.ipynb>data table notebook</a>'\n",
              "            + ' to learn more about interactive tables.';\n",
              "          element.innerHTML = '';\n",
              "          dataTable['output_type'] = 'display_data';\n",
              "          await google.colab.output.renderOutput(dataTable, element);\n",
              "          const docLink = document.createElement('div');\n",
              "          docLink.innerHTML = docLinkHtml;\n",
              "          element.appendChild(docLink);\n",
              "        }\n",
              "      </script>\n",
              "    </div>\n",
              "  </div>\n",
              "  "
            ]
          },
          "metadata": {},
          "execution_count": 91
        }
      ]
    },
    {
      "cell_type": "code",
      "source": [
        "printing(\"Random Forest\",y_test,y_test_pred)\n",
        "#performance measures"
      ],
      "metadata": {
        "colab": {
          "base_uri": "https://localhost:8080/"
        },
        "id": "mfiUlE9JKqIN",
        "outputId": "bf61e68a-25c9-49c2-e0be-04171d49b132"
      },
      "execution_count": null,
      "outputs": [
        {
          "output_type": "stream",
          "name": "stdout",
          "text": [
            "Mean Absolute Error:  0.039657566487454575\n",
            "Mean Squared Error:  0.10716627758269526\n",
            "Root Mean Squared Error:  0.327362608711953\n",
            "Mean Absolute percentage Error:  0.3995329453082352\n",
            "R-Square is 0.9014733078846096\n"
          ]
        }
      ]
    },
    {
      "cell_type": "code",
      "source": [
        "# Importing models\n",
        "from sklearn.linear_model import LinearRegression,Ridge\n",
        "\n",
        "# Linear Regression\n",
        "regressor = LinearRegression()\n",
        "# Ridge Regression\n",
        "ridge = Ridge()\n",
        "\n",
        "# Fitting models on Training data\n",
        "regressor.fit(X_train, y_train)\n",
        "ridge.fit(X_train, y_train)\n",
        "\n",
        "# Making predictions on Test data\n",
        "y_pred_lr = regressor.predict(X_test)\n",
        "y_pred_ridge = ridge.predict(X_test)"
      ],
      "metadata": {
        "id": "XpMRThHIKxv5"
      },
      "execution_count": null,
      "outputs": []
    },
    {
      "cell_type": "code",
      "source": [
        "printing(\"Linear Regression\",y_test,y_pred_lr)\n",
        "#performance measures"
      ],
      "metadata": {
        "colab": {
          "base_uri": "https://localhost:8080/"
        },
        "id": "rzttfOT1CvkY",
        "outputId": "e7474944-7782-43f8-abbc-760962bcac53"
      },
      "execution_count": null,
      "outputs": [
        {
          "output_type": "stream",
          "name": "stdout",
          "text": [
            "Mean Absolute Error:  0.06585407630496587\n",
            "Mean Squared Error:  0.05891453860066014\n",
            "Root Mean Squared Error:  0.2427231727723172\n",
            "Mean Absolute percentage Error:  1.0817481900306076\n",
            "R-Square is 0.945835063634189\n"
          ]
        }
      ]
    },
    {
      "cell_type": "code",
      "source": [
        "printing(\"Ridge Regression\",y_test,y_pred_ridge)\n",
        "#performance measures"
      ],
      "metadata": {
        "colab": {
          "base_uri": "https://localhost:8080/"
        },
        "id": "SSx-kndmD5Gn",
        "outputId": "17f3d279-31b1-4dd2-ed83-149c352bc802"
      },
      "execution_count": null,
      "outputs": [
        {
          "output_type": "stream",
          "name": "stdout",
          "text": [
            "Mean Absolute Error:  0.0658362091268268\n",
            "Mean Squared Error:  0.05888969369499166\n",
            "Root Mean Squared Error:  0.24267198786632063\n",
            "Mean Absolute percentage Error:  1.0816305005255469\n",
            "R-Square is 0.945857905580617\n"
          ]
        }
      ]
    },
    {
      "cell_type": "code",
      "source": [
        "alg_name\n",
        "# displaying all algorithms names that had been used"
      ],
      "metadata": {
        "colab": {
          "base_uri": "https://localhost:8080/"
        },
        "id": "ovLZL-cXEENw",
        "outputId": "14e2f820-ec74-4c2e-90b1-7e543653394c"
      },
      "execution_count": null,
      "outputs": [
        {
          "output_type": "execute_result",
          "data": {
            "text/plain": [
              "['KNN',\n",
              " 'Decision Tree',\n",
              " 'Random Forest',\n",
              " 'Linear Regression',\n",
              " 'Ridge Regression']"
            ]
          },
          "metadata": {},
          "execution_count": 97
        }
      ]
    },
    {
      "cell_type": "code",
      "source": [
        "alg_values\n",
        "# all algorithms accuracies"
      ],
      "metadata": {
        "colab": {
          "base_uri": "https://localhost:8080/"
        },
        "id": "kUEGlfXBNCYx",
        "outputId": "3cf25db7-19b2-4935-996a-c084ee29ac51"
      },
      "execution_count": null,
      "outputs": [
        {
          "output_type": "execute_result",
          "data": {
            "text/plain": [
              "[0.5678440757000827,\n",
              " 0.9463642981987406,\n",
              " 0.9014733078846096,\n",
              " 0.945835063634189,\n",
              " 0.945857905580617]"
            ]
          },
          "metadata": {},
          "execution_count": 98
        }
      ]
    },
    {
      "cell_type": "code",
      "source": [
        "alg_error\n",
        "# mean percentage error of the algorithms"
      ],
      "metadata": {
        "colab": {
          "base_uri": "https://localhost:8080/"
        },
        "id": "7KjN7M5jNLbC",
        "outputId": "2677cda7-88c1-4b18-c6c3-1504aab9947d"
      },
      "execution_count": null,
      "outputs": [
        {
          "output_type": "execute_result",
          "data": {
            "text/plain": [
              "[1.213907615635583,\n",
              " 0.7043280607557174,\n",
              " 0.3995329453082352,\n",
              " 1.0817481900306076,\n",
              " 1.0816305005255469]"
            ]
          },
          "metadata": {},
          "execution_count": 99
        }
      ]
    },
    {
      "cell_type": "code",
      "source": [
        "# plotting a line graph\n",
        "plt.plot(alg_name,alg_values)\n",
        "plt.xticks(rotation=90,ha='right')\n",
        "# it shows relation between algorithm and its accuracy"
      ],
      "metadata": {
        "colab": {
          "base_uri": "https://localhost:8080/",
          "height": 643
        },
        "id": "tp8Oy12yNNjZ",
        "outputId": "c20dc9e5-1100-4154-b7ae-46b5d65c651f"
      },
      "execution_count": null,
      "outputs": [
        {
          "output_type": "execute_result",
          "data": {
            "text/plain": [
              "([0, 1, 2, 3, 4],\n",
              " [Text(0, 0, 'KNN'),\n",
              "  Text(1, 0, 'Decision Tree'),\n",
              "  Text(2, 0, 'Random Forest'),\n",
              "  Text(3, 0, 'Linear Regression'),\n",
              "  Text(4, 0, 'Ridge Regression')])"
            ]
          },
          "metadata": {},
          "execution_count": 101
        },
        {
          "output_type": "display_data",
          "data": {
            "text/plain": [
              "<Figure size 640x480 with 1 Axes>"
            ],
            "image/png": "[encoded data removed]"
          },
          "metadata": {}
        }
      ]
    },
    {
      "cell_type": "markdown",
      "source": [
        "line graph to show the accuracies"
      ],
      "metadata": {
        "id": "cK1F4fGNPM2w"
      }
    },
    {
      "cell_type": "code",
      "source": [
        "# plotting a line graph\n",
        "plt.plot(alg_name,alg_error)\n",
        "plt.xticks(rotation=90,ha='right')\n",
        "# it shows relation between algorithm and its mean absolute percentage error"
      ],
      "metadata": {
        "colab": {
          "base_uri": "https://localhost:8080/",
          "height": 643
        },
        "id": "iErkhuxkNeu9",
        "outputId": "32b60786-1e14-4df3-c67d-fac4265cb4cc"
      },
      "execution_count": null,
      "outputs": [
        {
          "output_type": "execute_result",
          "data": {
            "text/plain": [
              "([0, 1, 2, 3, 4],\n",
              " [Text(0, 0, 'KNN'),\n",
              "  Text(1, 0, 'Decision Tree'),\n",
              "  Text(2, 0, 'Random Forest'),\n",
              "  Text(3, 0, 'Linear Regression'),\n",
              "  Text(4, 0, 'Ridge Regression')])"
            ]
          },
          "metadata": {},
          "execution_count": 102
        },
        {
          "output_type": "display_data",
          "data": {
            "text/plain": [
              "<Figure size 640x480 with 1 Axes>"
            ],
            "image/png": "[encoded data removed]"
          },
          "metadata": {}
        }
      ]
    },
    {
      "cell_type": "markdown",
      "source": [
        "line graph to show the mean percentage error of all algorithms"
      ],
      "metadata": {
        "id": "fGEq718LPTIa"
      }
    },
    {
      "cell_type": "code",
      "source": [],
      "metadata": {
        "id": "DJPj-h4XN2sF"
      },
      "execution_count": null,
      "outputs": []
    }
  ]
}